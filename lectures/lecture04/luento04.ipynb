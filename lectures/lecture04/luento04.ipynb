{
 "cells": [
  {
   "cell_type": "code",
   "execution_count": 2,
   "metadata": {},
   "outputs": [],
   "source": [
    "from IPython.display import Image\n",
    "from IPython.core.display import HTML \n",
    "from IPython.display import IFrame"
   ]
  },
  {
   "cell_type": "markdown",
   "metadata": {},
   "source": [
    "# JODA Luento 4 "
   ]
  },
  {
   "cell_type": "markdown",
   "metadata": {},
   "source": [
    "Luentomuistion valmisteli [Arho Suominen](https://www.tuni.fi/fi/ajankohtaista/kun-teknologia-muuttuu-yrityksen-taytyy-loytaa-keinot-sopeutua-muutokseen). Vuonna 2022 JODAa luennoi [Jukka Huhtamäki](https://www.tuni.fi/fi/jukka-huhtamaki) ([@jnkka](https://twitter.com/jnkka?lang=fi)).\n"
   ]
  },
  {
   "cell_type": "markdown",
   "metadata": {},
   "source": [
    "## Oppimistavoitteet\n",
    "\n",
    "* Ohjatun oppimisen esimerkkitoteutuksen läpikäynti\n",
    "* Datatiedeprojektin työnkulkuun syventyminen\n",
    "* Datatiedeprosessin käytäntöihin tutustuminen \n",
    "* Erilaisiin suunnittelumalleihin (prosessimallit, mahdollisuuskehikko, analytiikkakehikko) perehtyminen\n",
    "\n",
    "## Mitä prosessia datatiedeprojektissa kannattaa hyödyntää?"
   ]
  },
  {
   "cell_type": "markdown",
   "metadata": {},
   "source": [
    "[CRISP-DM](https://www.kdnuggets.com/polls/2014/analytics-data-mining-data-science-methodology.html)-malli on osoittautunut monessa projektissa hyödylliseksi jäsennykseksi ja ajattelun välineeksi. Katso myös [Houston Analyticsin projektimalli](https://www.houston-analytics.com/project-methodology) ja Microsoftin laajempi [tiimidatiedekehikko](https://docs.microsoft.com/en-us/azure/architecture/data-science-process/overview). Tänään tehdäänkin asioita käytännössä.\n",
    "\n",
    "Kevään mittaan olemme jo käyneet läpi useammankin aineiston. Olemme katsoneet huollon vikailmoituksia, kuluttajadataa finanssisektorilta ja tämän päivän luentoon valmistauduttiin tutustumalla [AirBnB-esimerkkianalyysiin](https://github.com/InfoTUNI/joda2022/blob/master/koodiesimerkit/airnbn/python_scikit_airbnb.ipynb). \n",
    "\n",
    "Tänään on tarkoituksena käydä keskustellen läpi CRISP-DM -prosessia (tai ainakin sen ensimmäisiä askeleita). Tavoitteena on korostaa sitä, että todellisen maailman datatiedeprojekteissa lähtökohtana on **oletusarvoisesti liiketoimintaongelma tai muu kiinnostava kysymys, ei data**.\n",
    "\n",
    "Tässä prosessissa käytetään hyödyksi Jeff Pattonin esittelemää [kehikkoa mahdollisuuksien tunnistamiseen](https://www.jpattonassociates.com/opportunity-canvas/). Mahdollisuuskehikko on kehitetty liiketoiminta- ja Lean-kehikkojen pohjalta ja sen tarkoituksena on mahdollistaa keskustelu ratkaisusta jota olemme ideoimassa. Tehtävän tavoitteena on tukea harjoitustyöhön orientoitumista ongelmalähtöisesti.\n",
    "\n",
    "Niklas Stepheson [kuvaa hyvin miten mahdollisuuskehikkoa](https://www.stephenson.dk/opportunity-canvas/) voi hyödyntää ja me käytämme sitä tänään samalla prosessilla. Mahdollisuuskehikon käyttö on yksinkertaista ja se käydään alla läpi lyhyesti."
   ]
  },
  {
   "cell_type": "code",
   "execution_count": 9,
   "metadata": {},
   "outputs": [
    {
     "data": {
      "text/html": [
       "\n",
       "        <iframe\n",
       "            width=\"1000\"\n",
       "            height=\"700\"\n",
       "            src=\"https://www.dropbox.com/s/a7jydl9n7zplqwg/opportunity_canvas.pdf?dl=0\"\n",
       "            frameborder=\"0\"\n",
       "            allowfullscreen\n",
       "        ></iframe>\n",
       "        "
      ],
      "text/plain": [
       "<IPython.lib.display.IFrame at 0x7fbb44665f40>"
      ]
     },
     "execution_count": 9,
     "metadata": {},
     "output_type": "execute_result"
    }
   ],
   "source": [
    "IFrame(\"https://www.dropbox.com/s/a7jydl9n7zplqwg/opportunity_canvas.pdf?dl=0\", width=1000, height=700)"
   ]
  },
  {
   "cell_type": "markdown",
   "metadata": {},
   "source": [
    "<ol>\n",
    "<li>Aloita kohdasta 1. Ongelma. Mahdollisuuskehikko on suunniteltu niin, että voit aloittaa joko ratkaisusta tai ongelmasta ja päätyä molempia reittejä takaisin ratkaisuun tai ongelmaan. JODAn puitteissa lähdetään liikkeelle siitä että kuvaat ongelman, eli kysymyksen minkä haluat ratkaista. Vastaakin kysymykseen, mikä on se ongelma johon haluan tuottaa ratkaisun?</li>\n",
    "<li>Kuka käyttää ratkaisua? Kuten yleensä, on huono ratkaisu todeta että tätä käyttää kaikki vaan pikemminkin kuvata ne segmentit jotka voisivat käyttää palvelua ja kuvata mitkä ovat näiden segmenttien erot.</li>\n",
    "<li>Kuvaa miten ongelma on ratkaistu tänään. Tämä antaa kuvan siitä miten voit mitata oman ratkaisusi \"suorituskykyä\" verrattuna nykyiseen ratkaisuun. Ratkaisuna voi olla myös jokin epätyypillinen kiertotie ongelman ratkaisemiseen.</li>\n",
    "<li>Kohdassa neljä määritellään liiketoimintaongelma, tai pikemminkin se, miten tarjoamasi ongelman ratkaisu vaikuttaa liiketoimintaan. Asiaa voi ajatella myös käänteisesti, miten ongelman jättäminen ratkaisematta vaikuttaa liiketoimintaan.</li>\n",
    "<li>Miten käyttäjät käyttävät ratkaisua? Miten käyttäjän prosessi muuttuu siitä että käyttää ratkaisua ja mikä on heidän saama hyöty?</li>\n",
    "<li>Miten voisit mitata sitä että käyttäjät testaavat, käyttävät, sisäistävät ratkaisun? Miten mittaat käyttäjän ratkaisusta saamaa hyötyä?</li>\n",
    "    <li><a href=\"https://en.wikipedia.org/wiki/Technology_acceptance_model\">Teknologian hyväksyntä</a> voidaan käytännössä jakaa kahteen osaan: subjektiivisesti koettu hyöty ja helppokäyttöisyys. Hyöty määritellään siten, että kuinka paljon toteutettu ratkaisu voi helpottaa henkilön työprosessia. Helppokäyttöisyys kuvaa sitä kuinka pienen työn järjestelmän käyttöönotto vaatii.</li>\n",
    "<li>Miten voisit mitata ratkaisun vaikutusta yrityksesi liiketoimintaan?</li>\n",
    "<li>Budjetti, miten tämä realisoituu käytännössä.</li>\n",
    "</ol>"
   ]
  },
  {
   "cell_type": "markdown",
   "metadata": {},
   "source": [
    "Lähdetään liikkeelle tärkeimmästä."
   ]
  },
  {
   "cell_type": "markdown",
   "metadata": {},
   "source": [
    "### Ymmärrä liiketoimintasi"
   ]
  },
  {
   "cell_type": "markdown",
   "metadata": {},
   "source": [
    "Tämä vaihe on keskeinen projektisi onnistumiselle. Jotta dataprojektisi lähtisi liikkeelle ja tulisi käyttöönotetuksi, on sen tuotettava selkeää arvo yrityksen liiketoimintaprosessille. Kuten minkä tahansa tuotteen määrittelyssä, on keskeistä tuoda esille se miten jokin yrityksen prosessi tai tuote muuttuu paremmaksi kun siihen yhdistetään jokin datakomponentti. "
   ]
  },
  {
   "cell_type": "markdown",
   "metadata": {},
   "source": [
    "<!-- Alla oleva tapauskuvaus on lainaus [Tekoälyaikaraportista](https://www.tekoalyaika.fi/raportit/edellakavijana-tekoalyaikaan/2-kansainvaliset-tekoalyn-asiantuntijat-kohti-tekoalyn-kolmatta-aaltoa/).-->"
   ]
  },
  {
   "cell_type": "markdown",
   "metadata": {},
   "source": [
    "<!-- #### Case K-ryhmä: Tekoäly tietää paremmin kuin sinä, mitä haluat syödä -->"
   ]
  },
  {
   "cell_type": "markdown",
   "metadata": {},
   "source": [
    "<!--<i>Ruokakauppojen kanta-asiakasjärjestelmät ovat jo pitkään tunteneet asiakkaansa läpikotaisin. Ostosdatan perusteella on helppo tehdä päätelmiä asiakkaan ostoskäyttäytymisestä. Lisäksi tiedämme, että ihmiset tuppaavat ostamaan ruokakaupasta suunnilleen samankaltaisia asioita.\n",
    "\n",
    "K-RYHMÄSSÄ päätettiin muutama vuosi sitten ryhtyä rakentamaan tästä datasta huomattavasti nykyistä älykkäämpää järjestelmää, joka suosittelisi ihmisille reseptejä heidän puolestaan ja siten helpottaisi heidän arkeaan. Järjestelmä otettiin käyttöön vuonna 2017. Yksinkertaisimmillaan se tarkoittaa sitä, että kun hakukenttään kirjoittaa ”maito”, hakukone antaa sisäänkirjautuneelle käyttäjälle automaattisesti ostoshistoriaan perustuvan suosikkimaidon.\n",
    "\n",
    "Pian kuitenkin järjestelmää opetettiin älykkäämmäksi ja hakua laajennettiin antamaan myös reseptisuosituksia. Se päättelee ihmisten hakutuloksista, minkälaisia ruokia ostavat ihmiset käyttävät minkäkinlaisia reseptejä, ja suosittelee näitä automaattisesti uusille käyttäjille.\n",
    "\n",
    "Vuoden alusta järjestelmää on opetettu entistä älykkäämmäksi ja se on laajennettu koskemaan ostolistoja. Käytännössä sisäänkirjautunut käyttäjä voi nyt yhdellä napinpainalluksella saada ensi viikon ostoslistan valmiina itselleen. Harkinnan siitä, mitä ruokakassiin tulisi laittaa, on tehnyt käyttäjän puolesta tekoäly pohjautuen aiempaan ostoslistaan. Se ei siis suosittele ainoastaan aiemmin ostettuja tuotteita, vaan päättelee, mitä käyttäjä haluaisi ensi viikolla mahdollisesti syödä. Mitä enemmän ostoksia ja listoja käyttäjä tekee, sitä paremmin järjestelmä oppii tuntemaan – ja suosittelemaan myös uusia.\n",
    "\n",
    "Tällöin voi käydä lopulta niin, että tekoäly oppii ihmistä paremmaksi mielitekojen asiantuntijaksi ja ihmisten aikaa vapautuu johonkin muuhun kuin sen miettimiseen, mitä seuraavaksi tekisi mieli.\n",
    "\n",
    "Ruokaostosdataa on monista asiakkaista jo hyvin pitkän ajan takaa, joten ruokaostoksia ja reseptejä suositteleva tekoäly lähtee liikkeelle varsin hyvästä lähtökohdasta. Dataa on runsaasti ja se on laadukasta.\n",
    "\n",
    "Sen sijaan vaikeampaa tekoälylle on ollut opettaa henkilökohtaisten mieltymysten ja sesonkivaihtelujen eroa. Eli vaikka käyttäjä kuinka rakastaisi runebergintorttuja, hän tuskin haluaa niistä suosituksia marraskuussa. Haasteena on ollut datan saavutettavuus, laatu ja datamassojen laskentatehojen riittävyys, joissa on vasta viime vuosina saavutettu sellaisia teknisiä harppauksia, että relevanttien suositusten antaminen on mahdollista.\n",
    "\n",
    "Seuraavana tavoitteena on nivoa resepti- ja ostoslistasuosittelu eheäksi kokonaisuudeksi, joka muuttaa ruokakaupassa käymisen kokonaan. Silloin ruokaostosten valinta ja hankkiminen tapahtuvat käytännössä muutamalla napinpainalluksella. Tähän tapaan:\n",
    "\n",
    "Järjestelmä kysyy käyttäjältä, haluaako tämä kokata ensi viikolla makaronilaatikkoa ja kasvispastaa, johon käyttäjä vastaa kyllä. Tämän jälkeen järjestelmä ehdottaa ostoslistalle tuotteita, jotka käyttäjä hyväksyy. Tämän jälkeen järjestelmä kysyy, haluatko ostaa tuotteet, jolloin käyttäjä hyväksyy ja maksaa ostokset – ja saa ne hetken päästä toimitettuna kotiovellensa.\n",
    "\n",
    "Tämä voi olla mahdollista jo vuoden sisällä.\n",
    "\n",
    "K-ryhmän reseptisuositukset on esimerkki digitaalisten palveluiden kehittämisestä. Kyseessä on ihmisten arkeen vahvasti vaikuttava tekijä: käytämme merkittävän osan ajastamme ruokaostosten hankkimiseen ja sen miettimiseen, mitä ruuaksi laittaisimme tai haluaisimme laittaa. Näin ollen tekoäly voi mullistaa käytännön arkeamme minimoimalla tuon ajan ja oppimalla älykkääksi arvioimaan puolestamme sen, mitä olemme syöneet ja mitä meidän kannattaisi seuraavaksi syödä.</i>-->"
   ]
  },
  {
   "cell_type": "markdown",
   "metadata": {},
   "source": [
    "Käy läpi Airbnb:n tiedote mukavuuksista joita [majoittajan kannattaa juuri nyt vierailleen tarjota](https://www.airbnb.fi/resources/hosting-homes/a/the-best-amenities-to-offer-right-now-203).\n",
    "\n",
    "<!-- majoitus- ja elämysjohtaja [Catherine Powellin viikkokatsaus syksyltä 2020](https://www.airbnb.fi/resources/hosting-homes/a/introducing-airbnbs-covid-19-safety-practices-274). -->  "
   ]
  },
  {
   "cell_type": "markdown",
   "metadata": {},
   "source": [
    "<b>Keskustellaan pienryhmissä:</b> \n",
    "<ol>\n",
    "<li>Minkä ongelman Airbnb haluaa ratkaista?</li>\n",
    "<li>Listatkaa muutamia mahdollisia analyysejä joiden pohjalta viikkokatsauksen teemat ja esitetyt ohjeistukset ovat muodostuneet.</li>\n",
    "</ol>\n",
    "\n",
    "Aikaa kymmenen minuuttia, varautukaa kertomaan vastaukset myös muille."
   ]
  },
  {
   "cell_type": "markdown",
   "metadata": {},
   "source": [
    "<!-- Etukäteinen perustelu ei kuitenkaan riitä, vaan on luotava myös jonkinlainen arviointikehikko sille miten tiedät datan tuoneen arvoa liiketoimintaprosessiin.\n",
    "\n",
    "Susara van den Heever kuvaa sitä miten voit [mitata analytiikan hyötyjä](https://web.archive.org/web/20201020003032/https://www.ibmbigdatahub.com/blog/top-3-ways-measure-success-your-analytics-investment). Hän nostaa esille kolme tekijää: laatu, nopeus ja robustisuus. -->"
   ]
  },
  {
   "cell_type": "markdown",
   "metadata": {},
   "source": [
    "<!-- **Jatketaan vielä pienryhmissä:**\n",
    "\n",
    "Miten näkisitte että Airbnb tapauskuvauksessa voisi yllä mainittu mittakehikko toimia?\n",
    "\n",
    "Miten laatu, nopeus ja robustisuus voisi muuttua datan avulla?\n",
    "\n",
    "Aikaa kymmenen minuuttia, varautukaa kertomaan vastaukset myös muille -->"
   ]
  },
  {
   "cell_type": "markdown",
   "metadata": {},
   "source": [
    "Vaikka harjoitustyössä ei olekaan (välttämättä) kyse yrityksen liiketoiminnasta, on yhtä olennaista päättää jokin selkeä kysymys johon voit vastata datan avulla ja vasta sitten pohtia onko kysymykseen vastaamiseksi saatavilla dataa. "
   ]
  },
  {
   "cell_type": "markdown",
   "metadata": {},
   "source": [
    "#### Harjoitustyön aloittaminen"
   ]
  },
  {
   "cell_type": "markdown",
   "metadata": {},
   "source": [
    "[Mahdollisuuskehikko](https://www.dropbox.com/s/vzzz7nvjvobhcka/opportunity_canvas_editable.pptx?dl=0) ([katso keskustelu suomenkielisestä käsitteestä](https://twitter.com/jnkka/status/1376788470962790401)) on tarjolla verkossa. Meillä on käytössä [Miro-versio kehikosta](https://miro.com/welcomeonboard/dEhDUFB3QmJXUDFtd1A0Q3VtM2pZZjY2ZVh5aDJ6aExIU0xBZ3FmRFVKTk1lcWI0VGRDa3BOa05NUUpXQnNZd3wzMDc0NDU3MzQ3NDA3MzExNDI5?invite_link_id=922037219634). \n",
    "\n",
    "<ol>\n",
    "    <li>Pohdi itse minkä ongelman haluisit harjoitustyössä ratkaista. Vaikka <a href=\"https://infotuni.github.io/joda2022/harjoitustyo/\">harjoitustyökuvauksessa</a> keskitytään AirBnB-dataan, olet vapaa miettimään itsellesi mielenkiintoista aihetta. Hahmottele itsellesi mielenkiintoisia ideoita mahdollisuuskehikon lokeroon 1. Näitä voi olla useita, joten ideoi vapaasti.</li>\n",
    "    <li>Listaa ongelmia <a href=\"https://flinga.fi/s/FD3AJBT\">Flingaan</a>. Mikä ongelmista on oikeasti olemassa? Suodatetaan kiinnostavimmat ideat tykkäämällä.</li>\n",
    " </ol>\n",
    "\n",
    "Listataan ideoita 10 minuuttia.\n",
    "\n",
    "<ol>\n",
    "<li>Jatketaan kiinnostavimpien ideoiden kehittelyä <a href=\"https://miro.com/app/board/o9J_lMv9Ko8=/\">Mirossa</a>. Ota kopio aihekuvauspohjasta tai täydennä olemassa olevaa aihetta.</li>\n",
    "<li>Kuka ehdotettua ratkaisua voisi käyttää? Miten voit rajata tämän joukon kaikista muista?</li>\n",
    "<li>Mitkä ovat nykyisin käytössä olevat ratkaisut? Kuvaa ne lyhyesti.</li>\n",
    "</ol>\n",
    "\n",
    "Aikaa käytössä on 20 minuuttia. <!--, jonka jälkeen lisää kanvaasisi omaksi kalvokseen.--> <!-- Kun jatkamme eteenpäin, käy lisäämässä oma ideasi ketjuun muiden ideoita lisäämällä oma kanvaasisi [muiden jatkoksi](https://docs.google.com/presentation/d/12UU5E6DXWBuZuFHKZ3uBell8MyyyofyF619D_k1h9Ek/edit?usp=sharing)-->"
   ]
  },
  {
   "cell_type": "markdown",
   "metadata": {},
   "source": [
    "### Hanki data"
   ]
  },
  {
   "cell_type": "markdown",
   "metadata": {},
   "source": [
    "Kun kysymys on lukittu voidaan pohtia mistä on mahdollista saada dataa kysymykseen vastaamiseksi. Esittelyssä ovat jo olleet Kaggle-datat, mutta vaihtoehtoja on myös muita. Tässä muutamia:"
   ]
  },
  {
   "cell_type": "markdown",
   "metadata": {},
   "source": [
    "<ol>\n",
    "<li>Onko käytössäsi organisaation itse luomaa dataa? Jos mahdollista, tulee arvioida mitä datalähteitä organisaatiolla itsellään on käytössä. Vaikka osa aineistosta ei alunperin olisi suunniteltu data analyysiin, voi yrityksen omissa strukturoiduissa tai epästrukturoiduissa datalähteissä olla merkittäviä tietovarantoja.</li>\n",
    "<li>Käytä API-rajapintoja: rajapintojen takaa löytyy mitä moninaisempia tietolähteitä joilla voi olla suoraa hyödynnettävyyttä omassa prosessissasi. Esimerkkinä rajapinnoista löytyy vaikka <a href=\"https://www.programmableweb.com/\">ProgrammableWeb-alustalta</a>, johon on koottuu erilaisia rajapintoja, tällä hetkellä yli 20 000 eri rajapintaa.</li>\n",
    "<li>Etsi avointa dataa: Varsinkin julkiset toimijat ovat lähteneet hyvin aktiivisesti julkaisemaan aineistojaan avoimen rajapinnan kautta. Esimerkkejä on vaikka Euroopan Unionin ODP, jonka kautta on saatavilla monenlaista aineistoa.</li>\n",
    "</ol>"
   ]
  },
  {
   "cell_type": "markdown",
   "metadata": {},
   "source": [
    "Alla yksinkertainen esimerkki [Europe PMC rajapinnasta](https://europepmc.org/RestfulWebService). "
   ]
  },
  {
   "cell_type": "code",
   "execution_count": 10,
   "metadata": {},
   "outputs": [
    {
     "name": "stdout",
     "output_type": "stream",
     "text": [
      "Rajapinnan kautta löytyi yhteensä 2769 julkaisua\n"
     ]
    }
   ],
   "source": [
    "import requests, json\n",
    "search=\"nanorobot%20or%20nanobot%20or%20nanomachine%20or%20nanomotors%20or%20nanoid%20or%20nanite%20or%20nanomite\"\n",
    "r = requests.get('https://www.ebi.ac.uk/europepmc/webservices/rest/search?query='+search+'&format=json&resulttype=core')\n",
    "query_data = json.loads(r.text)\n",
    "records=query_data['hitCount']\n",
    "print(\"Rajapinnan kautta löytyi yhteensä \"+str(records)+\" julkaisua\")\n",
    "if records > 1000:\n",
    "    pageSize=1000\n",
    "    pages=int((records/1000)+1)\n",
    "else:\n",
    "    pageSize=records\n",
    "    pages=1"
   ]
  },
  {
   "cell_type": "markdown",
   "metadata": {},
   "source": [
    "### Tarkastele ja käsittele dataa"
   ]
  },
  {
   "cell_type": "markdown",
   "metadata": {},
   "source": [
    "Kun olet valinnut aineiston jota käytät ja hankkinut käsiisi datan (tai ainakin osan siitä), aloita tarkastelemalla mitä datassa on. Esimerkiksi lainojen hyväksyntää kuvaava aineisto oli täynnä virheellisiä arvoja, puuttujia lukuja ja emme voineet olla täysin varmoja, että kaikki tapaukset kuvautuvat datassa alkujaankaan. \n",
    "\n",
    "Pohdi tässä kohtaa alkuperäistä kysymystäsi. Mitä nyt käytössä olevat muutujat oikestaan kertovat? Mitkä ovat muuttujien asteikot, ovatko muuttujat vinoja ja vain osa kategorisista luokista on edustettuina. Tee itsellesi kuva siitä mihin muuttujat voivat vastata ja ymmärrä myös se mihin ne eivät voi vastata. \n",
    "\n",
    "Kun olet ymmärtänyt mitä datassa on, voi aloittaa datan jalostamisen. Onko aineistossasi tekstikenttiä joissa on [kirjoitusvirheitä](https://twitter.com/jnkka/status/1110226356217044992?s=19)? Onko jokin muu osa ainestoa käsin syötettyä ja mahdollisesti osittain virheellistä? Pitääkö muuttujia muuntaa? Käy jokainen muuttuja läpi ja varmista että muuttujan arvot on varmasti siivottu."
   ]
  },
  {
   "cell_type": "markdown",
   "metadata": {},
   "source": [
    "### Rikasta aineistoa"
   ]
  },
  {
   "cell_type": "markdown",
   "metadata": {},
   "source": [
    "Jos olet tehnyt edelliset vaiheet hyvin, on tämä vaihe helpompi. Pyri tässä vaiheessa löytämään keino yhdistää eri lähteistä tulevat data yhdeksi. Vastaa kysymyksiin mikä datoja yhdistää? Ovatko muuttujat yhteismitallisia vai tuleeko minun asettaa rajoitteita siihen miten aineistoja voidaan myöhemmin analysoida yhdessä.\n",
    "\n",
    "Muunna data muotoon jossa tunnistat alkuperäiselle kysymykselle arvokkaat piirteet. Kuvaile mistä eri piirteet ovat tulleet (lähde), miten ne muuttuvat sekä mikä on niiden merkitys alkuperäiselle kysymykselle. Tarvittaessa pyri myös muuntaamaan muuttujia muotoon jossa ne palvelevat paremmin kysymyksen asettelua. Onko sinun analyysissä aikatieto relevantti minuutteina, tunteina vai vuosina?\n"
   ]
  },
  {
   "cell_type": "markdown",
   "metadata": {},
   "source": [
    "Hyvän esimerkin siitä miten dataa voi ymmärtää tarjoaa [analytiikkasuunnittelukehikko](https://reader.elsevier.com/reader/sd/pii/S2212827118301549?token=43C2D5A145DF1B6795E073AF56BF0538A3EF6328C4B3EA06D58642DD25CFEA1388892F5F668D0F4D724191B9178F5767)."
   ]
  },
  {
   "cell_type": "code",
   "execution_count": 1,
   "metadata": {},
   "outputs": [],
   "source": [
    "# IFrame(\"https://doi.org/10.1016/j.procir.2018.02.031\", width=1000, height=1200)"
   ]
  },
  {
   "cell_type": "markdown",
   "metadata": {},
   "source": [
    "### Tee visualisointeja"
   ]
  },
  {
   "cell_type": "markdown",
   "metadata": {},
   "source": [
    "Erityisesti jos sinulla on käsissäsi huomattava määrä muuttujia ja aineisto on laaja, tulee kriittisesti arvioida mitkä visualisoinnit ovat arvokkaita loppukäyttäjälle. Vaikka jonkin visualisoinnin tekeminen on mahdollista, sitä ei välttämättä kannata tehdä.\n",
    "\n",
    "Visualisointien tekemiseen on useita hyviä työkaluja kuten Bokeh, Plotly ja Matplotlib, mutta näistä ei ole erityisemmin hyötyä mikäli et pysty selittämään miksi jokin kuvaaja on arvokas asiaa analysoivalle loppukäyttäjälle. Visualisointien tekemisessä on itseasiassa merkittävä valinta tilanne, kun analyytikko päättää esimerkiksi visualisoida kaksi muuttujaa, mutta taustalle voi jäädä kymmeniä muuttujia. Miksi valitsit siis juuri nämä muuttujat?"
   ]
  },
  {
   "cell_type": "markdown",
   "metadata": {},
   "source": [
    "![\"Verkostokuva\"](https://ars.els-cdn.com/content/image/1-s2.0-S0040162516303651-gr2.jpg)\n",
    "\n",
    "Datan kartoittamiseen palataan tulevilla luentoviikoilla."
   ]
  },
  {
   "cell_type": "markdown",
   "metadata": {},
   "source": [
    "### Mallinna"
   ]
  },
  {
   "cell_type": "markdown",
   "metadata": {},
   "source": [
    "Tässä vaiheessa voit huoletta mallintaa dataasi. Mikä olikaan alkuperäinen kysymyksesi ja miten se kääntyy kysymykseksi joka ratkeaa ohjelmallisesti? "
   ]
  },
  {
   "cell_type": "markdown",
   "metadata": {},
   "source": [
    "![\"Scikit-learn map\"](https://scikit-learn.org/stable/_static/ml_map.png)"
   ]
  },
  {
   "cell_type": "markdown",
   "metadata": {},
   "source": [
    "### Iteroi"
   ]
  },
  {
   "cell_type": "markdown",
   "metadata": {},
   "source": [
    "Työt tuskin loppuivat tähän vaan nyt iteroit. Data analyysin mielenkiintoisin osa on se, että yleensä siinä vaiheessa kun olet käynyt prosessin läpi ensimmäisen kerran on sinulla jo hyvä käsitys siitä miten kyseistä aineistoa voisi edellen täydenttä uudella datalla, rikastaa, tai mallintaa toisella tavalla. Parhaimmillaan huomaat että mieleen on tullut täysin uusi kysymys, mutta jos näin on päässyt käymään, arvioi kriittisesti vastaako nyt kerätty aineisto uuteen kysymykseen."
   ]
  }
 ],
 "metadata": {
  "kernelspec": {
   "display_name": "Python 3",
   "language": "python",
   "name": "python3"
  },
  "language_info": {
   "codemirror_mode": {
    "name": "ipython",
    "version": 3
   },
   "file_extension": ".py",
   "mimetype": "text/x-python",
   "name": "python",
   "nbconvert_exporter": "python",
   "pygments_lexer": "ipython3",
   "version": "3.8.5"
  }
 },
 "nbformat": 4,
 "nbformat_minor": 4
}
