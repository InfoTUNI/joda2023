{
 "cells": [
  {
   "attachments": {},
   "cell_type": "markdown",
   "id": "2f41b193-221d-408d-bd70-18eba1cd6860",
   "metadata": {},
   "source": [
    "## Valmistautuminen\n",
    "\n",
    "Jos käytössäsi on Windows-kone, saatat joutua tekemään lisäasennuksia jotta saat [fastText-kirjaston asennettua](https://medium.com/@oleg.tarasov/building-fasttext-python-wrapper-from-source-under-windows-68e693a68cbb). \n",
    "Toinen vaihtoehto on toteuttaa tämä harjoitus [Google Colabissa](https://colab.research.google.com/). \n",
    "\n",
    "\n",
    "1. Asennettava: <code>fasttext</code>, <code>nltk</code>, <code>spacy</code> \n",
    "1. Käynnistä kernel uudelleen\n",
    "1. Jos virheet jatkuvat, asenna:  <code>spacy-transformers</code> \n",
    "1. Käynnistä kernel uudelleen\n",
    "1. <code>python -m spacy download fi_core_news_sm</code>\n",
    "\n"
   ]
  },
  {
   "cell_type": "code",
   "execution_count": null,
   "id": "9e6adce3",
   "metadata": {},
   "outputs": [],
   "source": []
  },
  {
   "cell_type": "markdown",
   "id": "e8f831c4-ac70-4ec8-a085-63351ab20c38",
   "metadata": {},
   "source": [
    "Following Teemu's presentation earlier this week, the trained FastText classifier was downloaded using the following lines:\n",
    "<code>\n",
    "    ft_classifier.quantize(input=input, retrain=True)\n",
    "    ft_classifier.save_model(\"ft_classifier.ftz\")\n",
    "</code>"
   ]
  },
  {
   "cell_type": "code",
   "execution_count": 1,
   "id": "06603593-58ab-44ca-888b-c39570ff97c5",
   "metadata": {},
   "outputs": [],
   "source": [
    "import fasttext\n",
    "import pandas as pd\n",
    "import re\n",
    "import nltk\n",
    "from nltk.corpus import stopwords\n",
    "# import libvoikko #perusmutoistamiseen käytetty kirjasto\n",
    "import spacy"
   ]
  },
  {
   "cell_type": "code",
   "execution_count": 64,
   "id": "4fcc6bf9",
   "metadata": {},
   "outputs": [],
   "source": [
    "# !python -m spacy download fi_core_news_sm"
   ]
  },
  {
   "cell_type": "code",
   "execution_count": 2,
   "id": "489ff581-b45d-4791-8466-2286768a00ed",
   "metadata": {},
   "outputs": [],
   "source": [
    "nlp = spacy.load(\"fi_core_news_sm\")"
   ]
  },
  {
   "cell_type": "code",
   "execution_count": null,
   "id": "05a062cb-48a9-46a8-a7de-c252f23d464b",
   "metadata": {},
   "outputs": [],
   "source": []
  },
  {
   "cell_type": "code",
   "execution_count": null,
   "id": "cdce0aa0-8c44-42ac-a9f0-48f28ed7698f",
   "metadata": {},
   "outputs": [],
   "source": []
  },
  {
   "cell_type": "code",
   "execution_count": 4,
   "id": "c5b45ab1-2f40-4e9f-bf55-5289855b371f",
   "metadata": {},
   "outputs": [
    {
     "name": "stdout",
     "output_type": "stream",
     "text": [
      "['olla', 'olen', 'olet', 'on', 'olemme', 'olette', 'ovat', 'ole', 'oli', 'olisi', 'olisit', 'olisin', 'olisimme', 'olisitte', 'olisivat', 'olit', 'olin', 'olimme', 'olitte', 'olivat', 'ollut', 'olleet', 'en', 'et', 'ei', 'emme', 'ette', 'eivät', 'minä', 'minun', 'minut', 'minua', 'minussa', 'minusta', 'minuun', 'minulla', 'minulta', 'minulle', 'sinä', 'sinun', 'sinut', 'sinua', 'sinussa', 'sinusta', 'sinuun', 'sinulla', 'sinulta', 'sinulle', 'hän', 'hänen', 'hänet', 'häntä', 'hänessä', 'hänestä', 'häneen', 'hänellä', 'häneltä', 'hänelle', 'me', 'meidän', 'meidät', 'meitä', 'meissä', 'meistä', 'meihin', 'meillä', 'meiltä', 'meille', 'te', 'teidän', 'teidät', 'teitä', 'teissä', 'teistä', 'teihin', 'teillä', 'teiltä', 'teille', 'he', 'heidän', 'heidät', 'heitä', 'heissä', 'heistä', 'heihin', 'heillä', 'heiltä', 'heille', 'tämä', 'tämän', 'tätä', 'tässä', 'tästä', 'tähän', 'tallä', 'tältä', 'tälle', 'tänä', 'täksi', 'tuo', 'tuon', 'tuotä', 'tuossa', 'tuosta', 'tuohon', 'tuolla', 'tuolta', 'tuolle', 'tuona', 'tuoksi', 'se', 'sen', 'sitä', 'siinä', 'siitä', 'siihen', 'sillä', 'siltä', 'sille', 'sinä', 'siksi', 'nämä', 'näiden', 'näitä', 'näissä', 'näistä', 'näihin', 'näillä', 'näiltä', 'näille', 'näinä', 'näiksi', 'nuo', 'noiden', 'noita', 'noissa', 'noista', 'noihin', 'noilla', 'noilta', 'noille', 'noina', 'noiksi', 'ne', 'niiden', 'niitä', 'niissä', 'niistä', 'niihin', 'niillä', 'niiltä', 'niille', 'niinä', 'niiksi', 'kuka', 'kenen', 'kenet', 'ketä', 'kenessä', 'kenestä', 'keneen', 'kenellä', 'keneltä', 'kenelle', 'kenenä', 'keneksi', 'ketkä', 'keiden', 'ketkä', 'keitä', 'keissä', 'keistä', 'keihin', 'keillä', 'keiltä', 'keille', 'keinä', 'keiksi', 'mikä', 'minkä', 'minkä', 'mitä', 'missä', 'mistä', 'mihin', 'millä', 'miltä', 'mille', 'minä', 'miksi', 'mitkä', 'joka', 'jonka', 'jota', 'jossa', 'josta', 'johon', 'jolla', 'jolta', 'jolle', 'jona', 'joksi', 'jotka', 'joiden', 'joita', 'joissa', 'joista', 'joihin', 'joilla', 'joilta', 'joille', 'joina', 'joiksi', 'että', 'ja', 'jos', 'koska', 'kuin', 'mutta', 'niin', 'sekä', 'sillä', 'tai', 'vaan', 'vai', 'vaikka', 'kanssa', 'mukaan', 'noin', 'poikki', 'yli', 'kun', 'niin', 'nyt', 'itse']\n"
     ]
    }
   ],
   "source": [
    "\n",
    "print(stopwords.words('finnish'))"
   ]
  },
  {
   "cell_type": "code",
   "execution_count": null,
   "id": "3701116b-0b47-4478-8266-13c66f8ec693",
   "metadata": {},
   "outputs": [],
   "source": []
  },
  {
   "cell_type": "code",
   "execution_count": 5,
   "id": "2b13488d-7a28-4edb-b397-3e5bcb8fd483",
   "metadata": {},
   "outputs": [],
   "source": [
    "# Load tweets datasets\n",
    "# Note: May need to install openpyxl library for the following line to work\n",
    "# pip install openpyxl\n",
    "df = pd.read_excel('shared_data/sample_texts.xlsx')\n"
   ]
  },
  {
   "cell_type": "code",
   "execution_count": 65,
   "id": "6d73a0de-24a5-42b8-b06a-20b3632a18ef",
   "metadata": {},
   "outputs": [
    {
     "data": {
      "text/html": [
       "<div>\n",
       "<style scoped>\n",
       "    .dataframe tbody tr th:only-of-type {\n",
       "        vertical-align: middle;\n",
       "    }\n",
       "\n",
       "    .dataframe tbody tr th {\n",
       "        vertical-align: top;\n",
       "    }\n",
       "\n",
       "    .dataframe thead th {\n",
       "        text-align: right;\n",
       "    }\n",
       "</style>\n",
       "<table border=\"1\" class=\"dataframe\">\n",
       "  <thead>\n",
       "    <tr style=\"text-align: right;\">\n",
       "      <th></th>\n",
       "      <th>Unnamed: 0</th>\n",
       "      <th>text_nousernames</th>\n",
       "      <th>author_username</th>\n",
       "      <th>Name</th>\n",
       "      <th>Position</th>\n",
       "      <th>eduskunta-vkk</th>\n",
       "      <th>twitter_handle</th>\n",
       "    </tr>\n",
       "  </thead>\n",
       "  <tbody>\n",
       "    <tr>\n",
       "      <th>0</th>\n",
       "      <td>0</td>\n",
       "      <td>RT  : Credit where due. Biden warned of the Ru...</td>\n",
       "      <td>TyttiTup</td>\n",
       "      <td>Tytti Tuppurainen</td>\n",
       "      <td>Eurooppa- ja omistajaohjausministeri</td>\n",
       "      <td>eurooppa-, kulttuuri- ja urheiluministeri</td>\n",
       "      <td>TyttiTup</td>\n",
       "    </tr>\n",
       "    <tr>\n",
       "      <th>1</th>\n",
       "      <td>1</td>\n",
       "      <td>RT  : I look forward to welcoming Sweden and F...</td>\n",
       "      <td>TyttiTup</td>\n",
       "      <td>Tytti Tuppurainen</td>\n",
       "      <td>Eurooppa- ja omistajaohjausministeri</td>\n",
       "      <td>eurooppa-, kulttuuri- ja urheiluministeri</td>\n",
       "      <td>TyttiTup</td>\n",
       "    </tr>\n",
       "    <tr>\n",
       "      <th>2</th>\n",
       "      <td>2</td>\n",
       "      <td>RT  : \"Hätten wir damals wegen der Krim stärke...</td>\n",
       "      <td>TyttiTup</td>\n",
       "      <td>Tytti Tuppurainen</td>\n",
       "      <td>Eurooppa- ja omistajaohjausministeri</td>\n",
       "      <td>eurooppa-, kulttuuri- ja urheiluministeri</td>\n",
       "      <td>TyttiTup</td>\n",
       "    </tr>\n",
       "    <tr>\n",
       "      <th>3</th>\n",
       "      <td>3</td>\n",
       "      <td>RT  : My deepest condolences for the victims a...</td>\n",
       "      <td>TyttiTup</td>\n",
       "      <td>Tytti Tuppurainen</td>\n",
       "      <td>Eurooppa- ja omistajaohjausministeri</td>\n",
       "      <td>eurooppa-, kulttuuri- ja urheiluministeri</td>\n",
       "      <td>TyttiTup</td>\n",
       "    </tr>\n",
       "    <tr>\n",
       "      <th>4</th>\n",
       "      <td>4</td>\n",
       "      <td>RT  : Thank you   Kamala Harris and \\n  for an...</td>\n",
       "      <td>TyttiTup</td>\n",
       "      <td>Tytti Tuppurainen</td>\n",
       "      <td>Eurooppa- ja omistajaohjausministeri</td>\n",
       "      <td>eurooppa-, kulttuuri- ja urheiluministeri</td>\n",
       "      <td>TyttiTup</td>\n",
       "    </tr>\n",
       "  </tbody>\n",
       "</table>\n",
       "</div>"
      ],
      "text/plain": [
       "   Unnamed: 0                                   text_nousernames  \\\n",
       "0           0  RT  : Credit where due. Biden warned of the Ru...   \n",
       "1           1  RT  : I look forward to welcoming Sweden and F...   \n",
       "2           2  RT  : \"Hätten wir damals wegen der Krim stärke...   \n",
       "3           3  RT  : My deepest condolences for the victims a...   \n",
       "4           4  RT  : Thank you   Kamala Harris and \\n  for an...   \n",
       "\n",
       "  author_username               Name                               Position  \\\n",
       "0        TyttiTup  Tytti Tuppurainen   Eurooppa- ja omistajaohjausministeri   \n",
       "1        TyttiTup  Tytti Tuppurainen   Eurooppa- ja omistajaohjausministeri   \n",
       "2        TyttiTup  Tytti Tuppurainen   Eurooppa- ja omistajaohjausministeri   \n",
       "3        TyttiTup  Tytti Tuppurainen   Eurooppa- ja omistajaohjausministeri   \n",
       "4        TyttiTup  Tytti Tuppurainen   Eurooppa- ja omistajaohjausministeri   \n",
       "\n",
       "                               eduskunta-vkk twitter_handle  \n",
       "0  eurooppa-, kulttuuri- ja urheiluministeri       TyttiTup  \n",
       "1  eurooppa-, kulttuuri- ja urheiluministeri       TyttiTup  \n",
       "2  eurooppa-, kulttuuri- ja urheiluministeri       TyttiTup  \n",
       "3  eurooppa-, kulttuuri- ja urheiluministeri       TyttiTup  \n",
       "4  eurooppa-, kulttuuri- ja urheiluministeri       TyttiTup  "
      ]
     },
     "execution_count": 65,
     "metadata": {},
     "output_type": "execute_result"
    }
   ],
   "source": [
    "df.head()"
   ]
  },
  {
   "cell_type": "code",
   "execution_count": 7,
   "id": "077ddcd3-76bd-4f86-adf8-0b077096b388",
   "metadata": {},
   "outputs": [],
   "source": [
    "tweets = df[['text_nousernames', 'eduskunta-vkk']]"
   ]
  },
  {
   "cell_type": "code",
   "execution_count": 66,
   "id": "69c0b52e-8ea4-4e8a-a8f7-2a6f6988419b",
   "metadata": {},
   "outputs": [
    {
     "data": {
      "text/html": [
       "<div>\n",
       "<style scoped>\n",
       "    .dataframe tbody tr th:only-of-type {\n",
       "        vertical-align: middle;\n",
       "    }\n",
       "\n",
       "    .dataframe tbody tr th {\n",
       "        vertical-align: top;\n",
       "    }\n",
       "\n",
       "    .dataframe thead th {\n",
       "        text-align: right;\n",
       "    }\n",
       "</style>\n",
       "<table border=\"1\" class=\"dataframe\">\n",
       "  <thead>\n",
       "    <tr style=\"text-align: right;\">\n",
       "      <th></th>\n",
       "      <th>text_nousernames</th>\n",
       "      <th>eduskunta-vkk</th>\n",
       "      <th>label</th>\n",
       "      <th>preprocessed</th>\n",
       "    </tr>\n",
       "  </thead>\n",
       "  <tbody>\n",
       "    <tr>\n",
       "      <th>0</th>\n",
       "      <td>RT  : Credit where due. Biden warned of the Ru...</td>\n",
       "      <td>eurooppa-, kulttuuri- ja urheiluministeri</td>\n",
       "      <td>__label__eurooppa-,_kulttuuri-_ja_urheiluminis...</td>\n",
       "      <td>rt    credit where due.biti warned of the russ...</td>\n",
       "    </tr>\n",
       "    <tr>\n",
       "      <th>1</th>\n",
       "      <td>RT  : I look forward to welcoming Sweden and F...</td>\n",
       "      <td>eurooppa-, kulttuuri- ja urheiluministeri</td>\n",
       "      <td>__label__eurooppa-,_kulttuuri-_ja_urheiluminis...</td>\n",
       "      <td>rt     look forward to welcoming sweden and fi...</td>\n",
       "    </tr>\n",
       "    <tr>\n",
       "      <th>2</th>\n",
       "      <td>RT  : \"Hätten wir damals wegen der Krim stärke...</td>\n",
       "      <td>eurooppa-, kulttuuri- ja urheiluministeri</td>\n",
       "      <td>__label__eurooppa-,_kulttuuri-_ja_urheiluminis...</td>\n",
       "      <td>rt     hätten wir damals wegen der krim stärke...</td>\n",
       "    </tr>\n",
       "    <tr>\n",
       "      <th>3</th>\n",
       "      <td>RT  : My deepest condolences for the victims a...</td>\n",
       "      <td>eurooppa-, kulttuuri- ja urheiluministeri</td>\n",
       "      <td>__label__eurooppa-,_kulttuuri-_ja_urheiluminis...</td>\n",
       "      <td>rt    my deepest condolences for the victims a...</td>\n",
       "    </tr>\n",
       "    <tr>\n",
       "      <th>4</th>\n",
       "      <td>RT  : Thank you   Kamala Harris and \\n  for an...</td>\n",
       "      <td>eurooppa-, kulttuuri- ja urheiluministeri</td>\n",
       "      <td>__label__eurooppa-,_kulttuuri-_ja_urheiluminis...</td>\n",
       "      <td>rt    thank you    kamala harris and    for an...</td>\n",
       "    </tr>\n",
       "  </tbody>\n",
       "</table>\n",
       "</div>"
      ],
      "text/plain": [
       "                                    text_nousernames  \\\n",
       "0  RT  : Credit where due. Biden warned of the Ru...   \n",
       "1  RT  : I look forward to welcoming Sweden and F...   \n",
       "2  RT  : \"Hätten wir damals wegen der Krim stärke...   \n",
       "3  RT  : My deepest condolences for the victims a...   \n",
       "4  RT  : Thank you   Kamala Harris and \\n  for an...   \n",
       "\n",
       "                               eduskunta-vkk  \\\n",
       "0  eurooppa-, kulttuuri- ja urheiluministeri   \n",
       "1  eurooppa-, kulttuuri- ja urheiluministeri   \n",
       "2  eurooppa-, kulttuuri- ja urheiluministeri   \n",
       "3  eurooppa-, kulttuuri- ja urheiluministeri   \n",
       "4  eurooppa-, kulttuuri- ja urheiluministeri   \n",
       "\n",
       "                                               label  \\\n",
       "0  __label__eurooppa-,_kulttuuri-_ja_urheiluminis...   \n",
       "1  __label__eurooppa-,_kulttuuri-_ja_urheiluminis...   \n",
       "2  __label__eurooppa-,_kulttuuri-_ja_urheiluminis...   \n",
       "3  __label__eurooppa-,_kulttuuri-_ja_urheiluminis...   \n",
       "4  __label__eurooppa-,_kulttuuri-_ja_urheiluminis...   \n",
       "\n",
       "                                        preprocessed  \n",
       "0  rt    credit where due.biti warned of the russ...  \n",
       "1  rt     look forward to welcoming sweden and fi...  \n",
       "2  rt     hätten wir damals wegen der krim stärke...  \n",
       "3  rt    my deepest condolences for the victims a...  \n",
       "4  rt    thank you    kamala harris and    for an...  "
      ]
     },
     "execution_count": 66,
     "metadata": {},
     "output_type": "execute_result"
    }
   ],
   "source": [
    "tweets.head()"
   ]
  },
  {
   "cell_type": "code",
   "execution_count": 9,
   "id": "f30fc1dc-ae26-43f9-b614-907c612e56e7",
   "metadata": {},
   "outputs": [],
   "source": [
    "# Methods imported from the original Notebook\n",
    "def preprocess_word(word, stopwords):\n",
    "    word = re.sub(\"[^A-Za-z0-9ÄäÖö-]+\", \"\", word)\n",
    "    word = re.sub(\"-\", \" \", word)\n",
    "    word = word.strip().lower()\n",
    "    if len(word) < 2:\n",
    "        return \"\"\n",
    "    if type(word) != None:\n",
    "        if word in stopwords:\n",
    "            return \"\"\n",
    "        return word\n",
    "\n",
    "def preprocess_sent(sent, stopwords):\n",
    "    if sent != \"\":\n",
    "        # lemmatize words using spacy\n",
    "        doc = nlp(sent)\n",
    "        sent = \" \".join([token.lemma_ for token in doc])\n",
    "        \n",
    "        words = sent.strip().split(\" \")\n",
    "        final_sent = \" \".join([preprocess_word(word, stopwords) for word in words if type(word) != None])\n",
    "        return final_sent\n",
    "\n",
    "def preprocess_row(teksti, stopwords):\n",
    "    if type(teksti) == str:\n",
    "        sents = teksti.strip().split(\".\")\n",
    "        sents = filter(None,sents)\n",
    "        teksti = \".\".join([preprocess_sent(sent, stopwords) for sent in sents if type(sent) != None])\n",
    "        return teksti"
   ]
  },
  {
   "cell_type": "code",
   "execution_count": null,
   "id": "cab51486-0917-476d-8969-4d52f8925766",
   "metadata": {},
   "outputs": [],
   "source": []
  },
  {
   "cell_type": "code",
   "execution_count": 67,
   "id": "4083051a-bc7e-4822-b98b-28a26bfda7e8",
   "metadata": {},
   "outputs": [
    {
     "data": {
      "text/html": [
       "<div>\n",
       "<style scoped>\n",
       "    .dataframe tbody tr th:only-of-type {\n",
       "        vertical-align: middle;\n",
       "    }\n",
       "\n",
       "    .dataframe tbody tr th {\n",
       "        vertical-align: top;\n",
       "    }\n",
       "\n",
       "    .dataframe thead th {\n",
       "        text-align: right;\n",
       "    }\n",
       "</style>\n",
       "<table border=\"1\" class=\"dataframe\">\n",
       "  <thead>\n",
       "    <tr style=\"text-align: right;\">\n",
       "      <th></th>\n",
       "      <th>text_nousernames</th>\n",
       "      <th>eduskunta-vkk</th>\n",
       "      <th>label</th>\n",
       "      <th>preprocessed</th>\n",
       "    </tr>\n",
       "  </thead>\n",
       "  <tbody>\n",
       "    <tr>\n",
       "      <th>0</th>\n",
       "      <td>RT  : Credit where due. Biden warned of the Ru...</td>\n",
       "      <td>eurooppa-, kulttuuri- ja urheiluministeri</td>\n",
       "      <td>__label__eurooppa-,_kulttuuri-_ja_urheiluminis...</td>\n",
       "      <td>rt    credit where due.biti warned of the russ...</td>\n",
       "    </tr>\n",
       "    <tr>\n",
       "      <th>1</th>\n",
       "      <td>RT  : I look forward to welcoming Sweden and F...</td>\n",
       "      <td>eurooppa-, kulttuuri- ja urheiluministeri</td>\n",
       "      <td>__label__eurooppa-,_kulttuuri-_ja_urheiluminis...</td>\n",
       "      <td>rt     look forward to welcoming sweden and fi...</td>\n",
       "    </tr>\n",
       "    <tr>\n",
       "      <th>2</th>\n",
       "      <td>RT  : \"Hätten wir damals wegen der Krim stärke...</td>\n",
       "      <td>eurooppa-, kulttuuri- ja urheiluministeri</td>\n",
       "      <td>__label__eurooppa-,_kulttuuri-_ja_urheiluminis...</td>\n",
       "      <td>rt     hätten wir damals wegen der krim stärke...</td>\n",
       "    </tr>\n",
       "    <tr>\n",
       "      <th>3</th>\n",
       "      <td>RT  : My deepest condolences for the victims a...</td>\n",
       "      <td>eurooppa-, kulttuuri- ja urheiluministeri</td>\n",
       "      <td>__label__eurooppa-,_kulttuuri-_ja_urheiluminis...</td>\n",
       "      <td>rt    my deepest condolences for the victims a...</td>\n",
       "    </tr>\n",
       "    <tr>\n",
       "      <th>4</th>\n",
       "      <td>RT  : Thank you   Kamala Harris and \\n  for an...</td>\n",
       "      <td>eurooppa-, kulttuuri- ja urheiluministeri</td>\n",
       "      <td>__label__eurooppa-,_kulttuuri-_ja_urheiluminis...</td>\n",
       "      <td>rt    thank you    kamala harris and    for an...</td>\n",
       "    </tr>\n",
       "  </tbody>\n",
       "</table>\n",
       "</div>"
      ],
      "text/plain": [
       "                                    text_nousernames  \\\n",
       "0  RT  : Credit where due. Biden warned of the Ru...   \n",
       "1  RT  : I look forward to welcoming Sweden and F...   \n",
       "2  RT  : \"Hätten wir damals wegen der Krim stärke...   \n",
       "3  RT  : My deepest condolences for the victims a...   \n",
       "4  RT  : Thank you   Kamala Harris and \\n  for an...   \n",
       "\n",
       "                               eduskunta-vkk  \\\n",
       "0  eurooppa-, kulttuuri- ja urheiluministeri   \n",
       "1  eurooppa-, kulttuuri- ja urheiluministeri   \n",
       "2  eurooppa-, kulttuuri- ja urheiluministeri   \n",
       "3  eurooppa-, kulttuuri- ja urheiluministeri   \n",
       "4  eurooppa-, kulttuuri- ja urheiluministeri   \n",
       "\n",
       "                                               label  \\\n",
       "0  __label__eurooppa-,_kulttuuri-_ja_urheiluminis...   \n",
       "1  __label__eurooppa-,_kulttuuri-_ja_urheiluminis...   \n",
       "2  __label__eurooppa-,_kulttuuri-_ja_urheiluminis...   \n",
       "3  __label__eurooppa-,_kulttuuri-_ja_urheiluminis...   \n",
       "4  __label__eurooppa-,_kulttuuri-_ja_urheiluminis...   \n",
       "\n",
       "                                        preprocessed  \n",
       "0  rt    credit where due.biti warned of the russ...  \n",
       "1  rt     look forward to welcoming sweden and fi...  \n",
       "2  rt     hätten wir damals wegen der krim stärke...  \n",
       "3  rt    my deepest condolences for the victims a...  \n",
       "4  rt    thank you    kamala harris and    for an...  "
      ]
     },
     "execution_count": 67,
     "metadata": {},
     "output_type": "execute_result"
    }
   ],
   "source": [
    "tweets.head()"
   ]
  },
  {
   "cell_type": "code",
   "execution_count": null,
   "id": "c4037b15-b46e-4e3c-8047-166210a8b785",
   "metadata": {},
   "outputs": [],
   "source": []
  },
  {
   "cell_type": "code",
   "execution_count": 11,
   "id": "30405310-3c88-44c6-92e9-d6b6f305cfcc",
   "metadata": {},
   "outputs": [],
   "source": [
    "#Apufunktio, jolla voidaan luoda fastText-yhteensopiva opetus- ja tekstitiedosto\n",
    "\n",
    "def preprocess_ft_df(df):\n",
    "    df[\"label\"] = [\"__label__\" + \"_\".join(str(x).split(\" \")) for x in df[\"eduskunta-vkk\"].values]\n",
    "    df[\"preprocessed\"] = [preprocess_row(sentence, stopwords.words('finnish')) for sentence in df[\"text_nousernames\"]]\n",
    "    df = df.drop([\"eduskunta-vkk\", \"text_nousernames\"], axis = 1)\n",
    "    return df"
   ]
  },
  {
   "cell_type": "code",
   "execution_count": 12,
   "id": "7afa6ce6-bdea-47a4-ac44-17754362c9c8",
   "metadata": {},
   "outputs": [
    {
     "name": "stderr",
     "output_type": "stream",
     "text": [
      "/var/folders/9y/2jq2trpj7l564lf9sd493lbd7r_6wb/T/ipykernel_19314/2270654315.py:4: SettingWithCopyWarning: \n",
      "A value is trying to be set on a copy of a slice from a DataFrame.\n",
      "Try using .loc[row_indexer,col_indexer] = value instead\n",
      "\n",
      "See the caveats in the documentation: https://pandas.pydata.org/pandas-docs/stable/user_guide/indexing.html#returning-a-view-versus-a-copy\n",
      "  df[\"label\"] = [\"__label__\" + \"_\".join(str(x).split(\" \")) for x in df[\"eduskunta-vkk\"].values]\n",
      "/var/folders/9y/2jq2trpj7l564lf9sd493lbd7r_6wb/T/ipykernel_19314/2270654315.py:5: SettingWithCopyWarning: \n",
      "A value is trying to be set on a copy of a slice from a DataFrame.\n",
      "Try using .loc[row_indexer,col_indexer] = value instead\n",
      "\n",
      "See the caveats in the documentation: https://pandas.pydata.org/pandas-docs/stable/user_guide/indexing.html#returning-a-view-versus-a-copy\n",
      "  df[\"preprocessed\"] = [preprocess_row(sentence, stopwords.words('finnish')) for sentence in df[\"text_nousernames\"]]\n"
     ]
    }
   ],
   "source": [
    "new_df = preprocess_ft_df(tweets)"
   ]
  },
  {
   "cell_type": "code",
   "execution_count": 68,
   "id": "3cd3ae38-f572-4c41-9b8b-b9af934e6e44",
   "metadata": {},
   "outputs": [
    {
     "data": {
      "text/html": [
       "<div>\n",
       "<style scoped>\n",
       "    .dataframe tbody tr th:only-of-type {\n",
       "        vertical-align: middle;\n",
       "    }\n",
       "\n",
       "    .dataframe tbody tr th {\n",
       "        vertical-align: top;\n",
       "    }\n",
       "\n",
       "    .dataframe thead th {\n",
       "        text-align: right;\n",
       "    }\n",
       "</style>\n",
       "<table border=\"1\" class=\"dataframe\">\n",
       "  <thead>\n",
       "    <tr style=\"text-align: right;\">\n",
       "      <th></th>\n",
       "      <th>label</th>\n",
       "      <th>preprocessed</th>\n",
       "    </tr>\n",
       "  </thead>\n",
       "  <tbody>\n",
       "    <tr>\n",
       "      <th>0</th>\n",
       "      <td>__label__eurooppa-,_kulttuuri-_ja_urheiluminis...</td>\n",
       "      <td>rt    credit where due.biti warned of the russ...</td>\n",
       "    </tr>\n",
       "    <tr>\n",
       "      <th>1</th>\n",
       "      <td>__label__eurooppa-,_kulttuuri-_ja_urheiluminis...</td>\n",
       "      <td>rt     look forward to welcoming sweden and fi...</td>\n",
       "    </tr>\n",
       "    <tr>\n",
       "      <th>2</th>\n",
       "      <td>__label__eurooppa-,_kulttuuri-_ja_urheiluminis...</td>\n",
       "      <td>rt     hätten wir damals wegen der krim stärke...</td>\n",
       "    </tr>\n",
       "    <tr>\n",
       "      <th>3</th>\n",
       "      <td>__label__eurooppa-,_kulttuuri-_ja_urheiluminis...</td>\n",
       "      <td>rt    my deepest condolences for the victims a...</td>\n",
       "    </tr>\n",
       "    <tr>\n",
       "      <th>4</th>\n",
       "      <td>__label__eurooppa-,_kulttuuri-_ja_urheiluminis...</td>\n",
       "      <td>rt    thank you    kamala harris and    for an...</td>\n",
       "    </tr>\n",
       "  </tbody>\n",
       "</table>\n",
       "</div>"
      ],
      "text/plain": [
       "                                               label  \\\n",
       "0  __label__eurooppa-,_kulttuuri-_ja_urheiluminis...   \n",
       "1  __label__eurooppa-,_kulttuuri-_ja_urheiluminis...   \n",
       "2  __label__eurooppa-,_kulttuuri-_ja_urheiluminis...   \n",
       "3  __label__eurooppa-,_kulttuuri-_ja_urheiluminis...   \n",
       "4  __label__eurooppa-,_kulttuuri-_ja_urheiluminis...   \n",
       "\n",
       "                                        preprocessed  \n",
       "0  rt    credit where due.biti warned of the russ...  \n",
       "1  rt     look forward to welcoming sweden and fi...  \n",
       "2  rt     hätten wir damals wegen der krim stärke...  \n",
       "3  rt    my deepest condolences for the victims a...  \n",
       "4  rt    thank you    kamala harris and    for an...  "
      ]
     },
     "execution_count": 68,
     "metadata": {},
     "output_type": "execute_result"
    }
   ],
   "source": [
    "new_df.head()"
   ]
  },
  {
   "cell_type": "code",
   "execution_count": null,
   "id": "6a6c9652-1de9-4afb-b928-69e25e90e403",
   "metadata": {},
   "outputs": [],
   "source": []
  },
  {
   "cell_type": "code",
   "execution_count": 14,
   "id": "1ca91d24-b379-411d-86c1-254b5b62ba4b",
   "metadata": {},
   "outputs": [
    {
     "name": "stderr",
     "output_type": "stream",
     "text": [
      "Warning : `load_model` does not return WordVectorModel or SupervisedModel any more, but a `FastText` object which is very similar.\n"
     ]
    }
   ],
   "source": [
    "\n",
    "model = fasttext.load_model(\"model_filename.ftz\")"
   ]
  },
  {
   "cell_type": "code",
   "execution_count": 69,
   "id": "1d675f54-6adc-4215-a3f2-a5f7956506fe",
   "metadata": {},
   "outputs": [],
   "source": [
    "# TODO: Produce predictions\n",
    "\n",
    "predictions = list()\n",
    "\n",
    "for row in new_df.itertuples():\n",
    "    # model.predict(row.preprocessed)[0][0]\n",
    "    prediction = model.predict(row.preprocessed)[0][0] \n",
    "    # print(prediction)\n",
    "    # print(predictions(model.predict(row.preprocessed)\n",
    "\n",
    "    predictions.append(prediction)\n",
    "\n",
    "# predictions\n"
   ]
  },
  {
   "cell_type": "code",
   "execution_count": 70,
   "id": "054073ba",
   "metadata": {},
   "outputs": [
    {
     "data": {
      "text/plain": [
       "'__label__maatalous-_ja_ympäristöministeri'"
      ]
     },
     "execution_count": 70,
     "metadata": {},
     "output_type": "execute_result"
    }
   ],
   "source": [
    "model.predict('Hiilen sidonta vaatii toimenpiteitä metsäpolitiikassa')[0][0]\n"
   ]
  },
  {
   "cell_type": "code",
   "execution_count": null,
   "id": "7e7afaa7",
   "metadata": {},
   "outputs": [],
   "source": []
  },
  {
   "cell_type": "code",
   "execution_count": null,
   "id": "b6c077db-3b0b-4837-a674-d9392f6ab6b3",
   "metadata": {},
   "outputs": [],
   "source": []
  },
  {
   "cell_type": "code",
   "execution_count": null,
   "id": "8a1d1ee2",
   "metadata": {},
   "outputs": [],
   "source": []
  },
  {
   "cell_type": "code",
   "execution_count": null,
   "id": "7f253361",
   "metadata": {},
   "outputs": [],
   "source": []
  },
  {
   "cell_type": "code",
   "execution_count": 53,
   "id": "8f2edf98-60d7-41a4-b5cc-465c165a2ce4",
   "metadata": {},
   "outputs": [],
   "source": [
    "hits = 0\n",
    "miss = 0\n",
    "for pred, truth in zip(predictions, new_df['label'].values):\n",
    "    if pred==truth:\n",
    "        hits += 1\n",
    "    else:\n",
    "        miss += 1"
   ]
  },
  {
   "cell_type": "code",
   "execution_count": 54,
   "id": "21e9b748-43a5-4672-804c-83f92e82763b",
   "metadata": {},
   "outputs": [
    {
     "data": {
      "text/plain": [
       "(180, 988)"
      ]
     },
     "execution_count": 54,
     "metadata": {},
     "output_type": "execute_result"
    }
   ],
   "source": [
    "hits, miss"
   ]
  },
  {
   "cell_type": "code",
   "execution_count": 55,
   "id": "f4fb66dd-7f0e-4c68-9113-b9ae95d07268",
   "metadata": {},
   "outputs": [
    {
     "data": {
      "text/plain": [
       "0.18218623481781376"
      ]
     },
     "execution_count": 55,
     "metadata": {},
     "output_type": "execute_result"
    }
   ],
   "source": [
    "hits/miss"
   ]
  },
  {
   "cell_type": "code",
   "execution_count": null,
   "id": "c1ef670b-c208-432e-8ee8-03efa5a495ba",
   "metadata": {},
   "outputs": [
    {
     "data": {
      "text/plain": [
       "16"
      ]
     },
     "execution_count": 116,
     "metadata": {},
     "output_type": "execute_result"
    }
   ],
   "source": [
    "len(new_df['label'].unique())"
   ]
  },
  {
   "cell_type": "code",
   "execution_count": null,
   "id": "0d3e96ee-c23d-4a6d-bf56-105a3ed69bd4",
   "metadata": {},
   "outputs": [],
   "source": []
  },
  {
   "cell_type": "code",
   "execution_count": null,
   "id": "6779f9e9-a30b-40e0-8ce2-3b5a5ed8a743",
   "metadata": {},
   "outputs": [],
   "source": []
  }
 ],
 "metadata": {
  "kernelspec": {
   "display_name": "Python 3 (ipykernel)",
   "language": "python",
   "name": "python3"
  },
  "language_info": {
   "codemirror_mode": {
    "name": "ipython",
    "version": 3
   },
   "file_extension": ".py",
   "mimetype": "text/x-python",
   "name": "python",
   "nbconvert_exporter": "python",
   "pygments_lexer": "ipython3",
   "version": "3.8.5"
  }
 },
 "nbformat": 4,
 "nbformat_minor": 5
}
