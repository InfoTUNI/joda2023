{
 "cells": [
  {
   "cell_type": "markdown",
   "metadata": {},
   "source": [
    "# Categorical and Missing Data\n",
    "\n",
    "In this session we will work with *airbnb* data. The goal is to predict the review scores rating. \n",
    "\n",
    "There are many entries (i.e rows) with missing attributes in our dataset. \n",
    "\n",
    "We will come around this issue by employing two approaches:\n",
    "1. *Remove rows with missing values*\n",
    "2. *Single imputation with median*"
   ]
  },
  {
   "cell_type": "code",
   "execution_count": null,
   "metadata": {},
   "outputs": [],
   "source": [
    "import pandas as pd\n",
    "import numpy as np\n",
    "\n",
    "from sklearn import preprocessing\n",
    "from sklearn import linear_model\n",
    "from sklearn.metrics import mean_squared_error, mean_absolute_error\n",
    "from sklearn.model_selection import cross_val_predict\n",
    "from sklearn.impute import SimpleImputer\n",
    "\n",
    "import matplotlib.pyplot as plt\n",
    "import os"
   ]
  },
  {
   "cell_type": "markdown",
   "metadata": {},
   "source": [
    "## Load Raw Data"
   ]
  },
  {
   "cell_type": "code",
   "execution_count": null,
   "metadata": {},
   "outputs": [],
   "source": [
    "# Load data\n",
    "if os.path.exists('abnb_listings.csv'):\n",
    "    df = pd.read_csv('abnb_listings.csv')\n",
    "else:\n",
    "    # df = pd.read_csv('http://data.insideairbnb.com/spain/comunidad-de-madrid/madrid/2018-01-17/data/listings.csv.gz', \n",
    "    #                   compression='gzip')\n",
    "    df = pd.read_csv('https://raw.githubusercontent.com/InfoTUNI/joda2022/master/koodiesimerkit/data.csv', \n",
    "                      )\n",
    "    df.to_csv('abnb_listings.csv')\n",
    "\n",
    "df.info()"
   ]
  },
  {
   "cell_type": "markdown",
   "metadata": {},
   "source": [
    "### First Approach - Removing rows with missing values"
   ]
  },
  {
   "cell_type": "code",
   "execution_count": null,
   "metadata": {},
   "outputs": [],
   "source": [
    "# We will focus on three attributes only\n",
    "df_rem = df[['host_response_time','host_response_rate','review_scores_rating']].copy()\n",
    "\n",
    "print(df_rem.head())\n",
    "print(df_rem.host_response_time.unique())"
   ]
  },
  {
   "cell_type": "code",
   "execution_count": null,
   "metadata": {},
   "outputs": [],
   "source": [
    "df_rem.host_response_rate = df_rem.host_response_rate.str.strip('%')\n",
    "df_rem.host_response_rate = pd.to_numeric(df_rem.host_response_rate)\n",
    "\n",
    "print(df_rem.info(), '\\n')\n",
    "print(df_rem.head())"
   ]
  },
  {
   "cell_type": "code",
   "execution_count": null,
   "metadata": {},
   "outputs": [],
   "source": [
    "# Remove all rows with null values\n",
    "df_rem = df_rem.dropna()"
   ]
  },
  {
   "cell_type": "code",
   "execution_count": null,
   "metadata": {},
   "outputs": [],
   "source": [
    "# Converting host_response_time attribute to categorical values.\n",
    "\n",
    "# Encoding label encoder...\n",
    "le = preprocessing.LabelEncoder()\n",
    "\n",
    "arr = le.fit_transform(df_rem.host_response_time)\n",
    "\n",
    "df_rem.host_response_time = arr"
   ]
  },
  {
   "cell_type": "code",
   "execution_count": null,
   "metadata": {},
   "outputs": [],
   "source": [
    "print(arr)\n",
    "df_rem.head()"
   ]
  },
  {
   "cell_type": "code",
   "execution_count": null,
   "metadata": {},
   "outputs": [],
   "source": [
    "# Perform Linear Regression\n",
    "lr = linear_model.LinearRegression()\n",
    "\n",
    "# define labels and data (i.e y and X)\n",
    "y = df_rem.review_scores_rating\n",
    "X = df_rem.drop(columns='review_scores_rating')\n",
    "\n",
    "prediction = cross_val_predict(lr, X, y, cv=10)\n",
    "\n",
    "fig, ax = plt.subplots(figsize=(20, 10))\n",
    "ax.scatter(y, prediction, edgecolors=(0, 0, 0))\n",
    "ax.plot([y.min(), y.max()], [y.min(), y.max()], 'k--', lw=4)\n",
    "ax.set_xlabel('Measured')\n",
    "ax.set_ylabel('Predicted')\n",
    "plt.show()\n"
   ]
  },
  {
   "cell_type": "code",
   "execution_count": null,
   "metadata": {},
   "outputs": [],
   "source": [
    "# Print pearson correlation coefficient a.k.a standard correlation coefficient\n",
    "print(df_rem.corr())\n"
   ]
  },
  {
   "cell_type": "code",
   "execution_count": null,
   "metadata": {},
   "outputs": [],
   "source": [
    "# Print Mean Squared Error\n",
    "mse = mean_squared_error(prediction, y)\n",
    "mae = mean_absolute_error(prediction, y)\n",
    "print(\"Mean Squared Error {:.2f} \\nMean Absolute Error {:.2f}\".format(mse, mae))"
   ]
  },
  {
   "cell_type": "markdown",
   "metadata": {},
   "source": [
    "### Second Approach - Single imputation with median."
   ]
  },
  {
   "cell_type": "code",
   "execution_count": null,
   "metadata": {},
   "outputs": [],
   "source": [
    "#select a subset of attributes \n",
    "df_imp = df[['review_scores_accuracy','review_scores_cleanliness',\n",
    "         'review_scores_checkin','review_scores_communication',\n",
    "         'review_scores_location','review_scores_value',\n",
    "         'review_scores_rating']].copy()\n",
    "\n",
    "print(df_imp.isnull().sum())"
   ]
  },
  {
   "cell_type": "code",
   "execution_count": null,
   "metadata": {},
   "outputs": [],
   "source": [
    "# Drop rows where all attributes are nan\n",
    "df_imp.dropna(axis=0, how='all', inplace=True)\n",
    "\n",
    "print(df_imp.isnull().sum())"
   ]
  },
  {
   "cell_type": "code",
   "execution_count": null,
   "metadata": {},
   "outputs": [],
   "source": [
    "# Impute median value for original missing values and generate new dataframe\n",
    "\n",
    "\n",
    "df_imp = df_imp.fillna(df_imp.mean())\n",
    "\n",
    "print(df_imp.isnull().sum())"
   ]
  },
  {
   "cell_type": "markdown",
   "metadata": {},
   "source": [
    "#### Predicting review scores rating "
   ]
  },
  {
   "cell_type": "code",
   "execution_count": null,
   "metadata": {},
   "outputs": [],
   "source": [
    "# Run Linear Regression\n",
    "lr = linear_model.LinearRegression()\n",
    "\n",
    "y = df_imp.review_scores_rating\n",
    "X = df_imp.drop(columns='review_scores_rating')\n",
    "\n",
    "prediction = cross_val_predict(lr, X, y, cv=10)"
   ]
  },
  {
   "cell_type": "code",
   "execution_count": null,
   "metadata": {},
   "outputs": [],
   "source": [
    "fig, ax = plt.subplots(figsize=(20, 10))\n",
    "ax.scatter(y, prediction, edgecolors=(0, 0, 0))\n",
    "ax.plot([y.min(), y.max()], [y.min(), y.max()], 'k--', lw=4)\n",
    "ax.set_xlabel('Measured')\n",
    "ax.set_ylabel('Predicted')\n",
    "plt.show()"
   ]
  },
  {
   "cell_type": "code",
   "execution_count": null,
   "metadata": {},
   "outputs": [],
   "source": [
    "print(df_imp.corr()['review_scores_rating'])"
   ]
  },
  {
   "cell_type": "code",
   "execution_count": null,
   "metadata": {},
   "outputs": [],
   "source": [
    "# Print Mean Squared Error\n",
    "mse = mean_squared_error(prediction, y)\n",
    "mae = mean_absolute_error(prediction, y)\n",
    "print(\"Mean Squared Error {:.2f} \\nMean Absolute Error {:.2f}\".format(mse, mae))"
   ]
  },
  {
   "cell_type": "markdown",
   "metadata": {},
   "source": [
    "#### TODO TASK: \n",
    "Predict the review scores using the Random Forest Regressor model and evaluate the predictive performance.\n",
    "Hint: Check out the sklearn implementation"
   ]
  },
  {
   "cell_type": "code",
   "execution_count": null,
   "metadata": {},
   "outputs": [],
   "source": []
  },
  {
   "cell_type": "code",
   "execution_count": null,
   "metadata": {},
   "outputs": [],
   "source": []
  },
  {
   "cell_type": "code",
   "execution_count": null,
   "metadata": {},
   "outputs": [],
   "source": []
  }
 ],
 "metadata": {
  "kernelspec": {
   "display_name": "Python 3 (ipykernel)",
   "language": "python",
   "name": "python3"
  },
  "language_info": {
   "codemirror_mode": {
    "name": "ipython",
    "version": 3
   },
   "file_extension": ".py",
   "mimetype": "text/x-python",
   "name": "python",
   "nbconvert_exporter": "python",
   "pygments_lexer": "ipython3",
   "version": "3.9.16"
  }
 },
 "nbformat": 4,
 "nbformat_minor": 4
}
