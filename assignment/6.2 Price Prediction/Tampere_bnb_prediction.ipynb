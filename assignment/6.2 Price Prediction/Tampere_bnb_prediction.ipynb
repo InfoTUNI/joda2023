{
 "cells": [
  {
   "cell_type": "markdown",
   "id": "d44bd9f2",
   "metadata": {},
   "source": [
    "# TampereBNB Listings - Price Prediction\n",
    "<p> Get ready for an exhilarating data science adventure! In this exciting assignment, you will dive into the world of TampereBNB, the popular platform for short-term accommodation rentals. \n",
    "    <br>\n",
    "    Your mission? To analyze data from this platform and use your data science skills to predict missing prices for some of the listings, using the tools mentioned in the following cell. </p>\n",
    "<br>\n",
    "\n",
    "## Instructions\n",
    "- Train a regression model of your choice on predicting the listing prices of the training data. \n",
    "- Use the trained model to get the price predictions for the listings in the testing data.\n",
    "- Store the resulting dataframe as a pickled (out.pkl) file. \n",
    "\n",
    "**NOTE: The code snippets for loading the data files and outputting the resulting dataframe, are provided. Do not update them.**\n",
    "\n",
    "\n",
    "#### Accessing the dataset\n",
    "To facilitate your work, we have created two separate training and testing TampereBNB csv files, located within the `data/` folder. Make sure the path to the files is the same, before submitting your solution.\n",
    "\n",
    "#### TODO\n",
    "\n",
    "- You are expected to predict prices for the listings on the testing data by using the following libraries (Besides the built-in python modules, specific libraries can be included upon request):\n",
    "    - scikit-learn (sklearn)\n",
    "    - pandas\n",
    "    - numpy\n",
    "    \n",
    "- Store your predictions as a dataframe with the attribute `Hinta` (case sensitive).\n",
    "- Save the dataframe in a pickle file, `out.pkl` (case sensitive).\n",
    "\n"
   ]
  },
  {
   "cell_type": "markdown",
   "id": "827a6736-b034-4917-ba6b-307c8ee7e2e0",
   "metadata": {},
   "source": [
    "## Importing the required packages"
   ]
  },
  {
   "cell_type": "code",
   "execution_count": 8,
   "id": "319c09fa",
   "metadata": {},
   "outputs": [],
   "source": [
    "import sklearn\n",
    "import numpy as np\n",
    "import pandas as pd "
   ]
  },
  {
   "cell_type": "markdown",
   "id": "852b0df0",
   "metadata": {},
   "source": [
    "## Loading Data"
   ]
  },
  {
   "cell_type": "code",
   "execution_count": 9,
   "id": "617b703b-c52a-475a-95b2-4b04a05f4fab",
   "metadata": {},
   "outputs": [],
   "source": [
    "# !MAKE SURE TO NOT CHANGE THE CODE WITHIN THIS CELL!. \n",
    "# Instead, put the data files within a folder named 'data' such that the paths would work.\n",
    "training_df = pd.read_csv('./data/Tampere_BNB_training_listing.csv')\n",
    "testing_df = pd.read_csv('./data/Tampere_BNB_testing_listing.csv')\n"
   ]
  },
  {
   "cell_type": "code",
   "execution_count": null,
   "id": "80621696-0dd5-4484-a08b-a61939612717",
   "metadata": {},
   "outputs": [],
   "source": []
  },
  {
   "cell_type": "markdown",
   "id": "276a6f7f",
   "metadata": {},
   "source": [
    "## Data Cleaning (optional)"
   ]
  },
  {
   "cell_type": "code",
   "execution_count": 10,
   "id": "c3441433",
   "metadata": {},
   "outputs": [],
   "source": [
    "# Clean the data for further processing"
   ]
  },
  {
   "cell_type": "code",
   "execution_count": null,
   "id": "a7655261-b358-4e1d-a746-758704421eb2",
   "metadata": {},
   "outputs": [],
   "source": []
  },
  {
   "cell_type": "markdown",
   "id": "b75480dc-8ad4-4fd3-bdbc-fc906926af3c",
   "metadata": {},
   "source": [
    "## Feature Engineering (optional)"
   ]
  },
  {
   "cell_type": "code",
   "execution_count": 11,
   "id": "321dbb26-2549-436b-82ad-712fe41bea9c",
   "metadata": {},
   "outputs": [],
   "source": [
    "# Feature engineering/extraction/discovery to extract features new from the raw data."
   ]
  },
  {
   "cell_type": "code",
   "execution_count": null,
   "id": "6bb4358c-864e-410c-935d-244acc5c72a7",
   "metadata": {},
   "outputs": [],
   "source": []
  },
  {
   "cell_type": "markdown",
   "id": "76b9c136-891d-4b77-a45e-4466dba98153",
   "metadata": {},
   "source": [
    "## Data Modeling"
   ]
  },
  {
   "cell_type": "code",
   "execution_count": 5,
   "id": "fc9144c7-d090-44e7-9ed8-82875c3e205c",
   "metadata": {},
   "outputs": [],
   "source": [
    "# Implement your prediction solution here."
   ]
  },
  {
   "cell_type": "code",
   "execution_count": null,
   "id": "244e3ac7-f322-4dea-8def-91f03f012dee",
   "metadata": {},
   "outputs": [],
   "source": []
  },
  {
   "cell_type": "code",
   "execution_count": null,
   "id": "5039562c-05bb-45c3-92ec-815ee593876e",
   "metadata": {},
   "outputs": [],
   "source": []
  },
  {
   "cell_type": "code",
   "execution_count": 6,
   "id": "7c9c6bbf-0be4-4594-9b76-74109c7698bd",
   "metadata": {},
   "outputs": [],
   "source": [
    "# Make sure to store your predictions in the 'Hinta' attribute of the testing dataframe.\n",
    "\n",
    "# By default, the following assignment will initialize the 'Hinta' column with the given constant.\n",
    "testing_df['Hinta'] = 1000000\n"
   ]
  },
  {
   "cell_type": "markdown",
   "id": "0f4272e4-06c7-49b5-b7cd-977a3965ba8b",
   "metadata": {},
   "source": [
    "## Store the results"
   ]
  },
  {
   "cell_type": "code",
   "execution_count": 7,
   "id": "06c9bac3",
   "metadata": {},
   "outputs": [],
   "source": [
    "# !MAKE SURE TO NOT CHANGE THE CODE WITHIN THIS CELL!. \n",
    "testing_df.to_pickle(\"out.pkl\")"
   ]
  },
  {
   "cell_type": "code",
   "execution_count": null,
   "id": "96d1784f-28f6-4a8e-9f93-7f381d6b7639",
   "metadata": {},
   "outputs": [],
   "source": []
  }
 ],
 "metadata": {
  "kernelspec": {
   "display_name": "Python 3 (ipykernel)",
   "language": "python",
   "name": "python3"
  },
  "language_info": {
   "codemirror_mode": {
    "name": "ipython",
    "version": 3
   },
   "file_extension": ".py",
   "mimetype": "text/x-python",
   "name": "python",
   "nbconvert_exporter": "python",
   "pygments_lexer": "ipython3",
   "version": "3.9.16"
  }
 },
 "nbformat": 4,
 "nbformat_minor": 5
}
