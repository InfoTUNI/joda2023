{
 "cells": [
  {
   "cell_type": "code",
   "execution_count": null,
   "id": "0f35e9df-1ad9-4557-9793-c4194f0e0631",
   "metadata": {},
   "outputs": [],
   "source": []
  },
  {
   "cell_type": "markdown",
   "id": "a2c59c88-4cc8-4713-868e-2f5655adcf1b",
   "metadata": {},
   "source": [
    "# ACCESS THE SOLUTION [HERE](https://www.youtube.com/watch?v=dQw4w9WgXcQ)"
   ]
  },
  {
   "cell_type": "markdown",
   "id": "53f09b59-d9f0-4904-9c6f-81a34225acfe",
   "metadata": {},
   "source": [
    "## You can do better."
   ]
  },
  {
   "cell_type": "code",
   "execution_count": null,
   "id": "1db63ab1-3276-45df-ba05-b3c648b322ea",
   "metadata": {},
   "outputs": [],
   "source": []
  },
  {
   "cell_type": "code",
   "execution_count": null,
   "id": "1703ccfb-92c5-4585-b47d-a424d3704cf2",
   "metadata": {},
   "outputs": [],
   "source": []
  }
 ],
 "metadata": {
  "kernelspec": {
   "display_name": "Python 3 (ipykernel)",
   "language": "python",
   "name": "python3"
  },
  "language_info": {
   "codemirror_mode": {
    "name": "ipython",
    "version": 3
   },
   "file_extension": ".py",
   "mimetype": "text/x-python",
   "name": "python",
   "nbconvert_exporter": "python",
   "pygments_lexer": "ipython3",
   "version": "3.9.16"
  }
 },
 "nbformat": 4,
 "nbformat_minor": 5
}
